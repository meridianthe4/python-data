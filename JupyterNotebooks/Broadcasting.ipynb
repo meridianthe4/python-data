{
 "cells": [
  {
   "cell_type": "code",
   "execution_count": 1,
   "id": "8c61246e-2482-4f71-a136-c2cd3b1bf81b",
   "metadata": {},
   "outputs": [],
   "source": [
    "import numpy as np"
   ]
  },
  {
   "cell_type": "code",
   "execution_count": 3,
   "id": "fa3e7639-9c20-47ad-8374-273954e7f52a",
   "metadata": {},
   "outputs": [
    {
     "data": {
      "text/plain": [
       "array([1, 2, 3, 4, 5, 6])"
      ]
     },
     "execution_count": 3,
     "metadata": {},
     "output_type": "execute_result"
    }
   ],
   "source": [
    "arr1d = np.array([1, 2, 3, 4, 5, 6])\n",
    "arr1d"
   ]
  },
  {
   "cell_type": "code",
   "execution_count": 4,
   "id": "ac315aa6-5cc5-438f-ac19-eb836aa99e96",
   "metadata": {},
   "outputs": [
    {
     "data": {
      "text/plain": [
       "array([11, 12, 13, 14, 15, 16])"
      ]
     },
     "execution_count": 4,
     "metadata": {},
     "output_type": "execute_result"
    }
   ],
   "source": [
    "arr1d + 10"
   ]
  },
  {
   "cell_type": "code",
   "execution_count": 6,
   "id": "21b208a5-99dc-4a1d-b05c-fd96c69a9bc6",
   "metadata": {},
   "outputs": [
    {
     "data": {
      "text/plain": [
       "array([-1,  0,  1,  2,  3,  4])"
      ]
     },
     "execution_count": 6,
     "metadata": {},
     "output_type": "execute_result"
    }
   ],
   "source": [
    "arr1d - 2"
   ]
  },
  {
   "cell_type": "code",
   "execution_count": 9,
   "id": "0fbe7471-29e9-452f-b5e4-e48758891213",
   "metadata": {},
   "outputs": [
    {
     "data": {
      "text/plain": [
       "array([False, False, False,  True,  True,  True])"
      ]
     },
     "execution_count": 9,
     "metadata": {},
     "output_type": "execute_result"
    }
   ],
   "source": [
    "arr1d >= 4"
   ]
  },
  {
   "cell_type": "code",
   "execution_count": 11,
   "id": "9304f9a0-f9cd-45ac-acd1-c015d8ffad7e",
   "metadata": {},
   "outputs": [
    {
     "data": {
      "text/plain": [
       "array([[ 0,  1,  2,  3,  4,  5],\n",
       "       [ 6,  7,  8,  9, 10, 11]])"
      ]
     },
     "execution_count": 11,
     "metadata": {},
     "output_type": "execute_result"
    }
   ],
   "source": [
    "arr2d = np.arange(12).reshape(2, 6)\n",
    "arr2d"
   ]
  },
  {
   "cell_type": "code",
   "execution_count": 12,
   "id": "8a495b1a-5f01-4af8-9d70-d80ca473544b",
   "metadata": {},
   "outputs": [
    {
     "data": {
      "text/plain": [
       "array([[ 1,  3,  5,  7,  9, 11],\n",
       "       [ 7,  9, 11, 13, 15, 17]])"
      ]
     },
     "execution_count": 12,
     "metadata": {},
     "output_type": "execute_result"
    }
   ],
   "source": [
    "arr1d + arr2d"
   ]
  },
  {
   "cell_type": "code",
   "execution_count": 14,
   "id": "9f63cac3-9a0e-423b-92b2-a019b5e5f86d",
   "metadata": {},
   "outputs": [
    {
     "data": {
      "text/plain": [
       "array([[10],\n",
       "       [11]])"
      ]
     },
     "execution_count": 14,
     "metadata": {},
     "output_type": "execute_result"
    }
   ],
   "source": [
    "arr = np.arange(10, 12).reshape(2, 1)\n",
    "arr"
   ]
  },
  {
   "cell_type": "code",
   "execution_count": 15,
   "id": "058b52e8-e2f5-4299-b054-c97db04224c6",
   "metadata": {},
   "outputs": [
    {
     "data": {
      "text/plain": [
       "array([[  0,  10,  20,  30,  40,  50],\n",
       "       [ 66,  77,  88,  99, 110, 121]])"
      ]
     },
     "execution_count": 15,
     "metadata": {},
     "output_type": "execute_result"
    }
   ],
   "source": [
    "arr * arr2d"
   ]
  },
  {
   "cell_type": "code",
   "execution_count": 17,
   "id": "095e24cf-21cf-4161-8d10-f83219375dd7",
   "metadata": {},
   "outputs": [
    {
     "ename": "ValueError",
     "evalue": "operands could not be broadcast together with shapes (4,3) (3,4) ",
     "output_type": "error",
     "traceback": [
      "\u001b[31m---------------------------------------------------------------------------\u001b[39m",
      "\u001b[31mValueError\u001b[39m                                Traceback (most recent call last)",
      "\u001b[36mCell\u001b[39m\u001b[36m \u001b[39m\u001b[32mIn[17]\u001b[39m\u001b[32m, line 3\u001b[39m\n\u001b[32m      1\u001b[39m arr_1 = np.arange(\u001b[32m12\u001b[39m).reshape(\u001b[32m4\u001b[39m, \u001b[32m3\u001b[39m)\n\u001b[32m      2\u001b[39m arr_2 = np.arange(\u001b[32m12\u001b[39m).reshape(\u001b[32m3\u001b[39m, \u001b[32m4\u001b[39m)\n\u001b[32m----> \u001b[39m\u001b[32m3\u001b[39m \u001b[43marr_1\u001b[49m\u001b[43m \u001b[49m\u001b[43m+\u001b[49m\u001b[43m \u001b[49m\u001b[43marr_2\u001b[49m\n",
      "\u001b[31mValueError\u001b[39m: operands could not be broadcast together with shapes (4,3) (3,4) "
     ]
    }
   ],
   "source": [
    "arr_1 = np.arange(12).reshape(4, 3)\n",
    "arr_2 = np.arange(12).reshape(3, 4)\n",
    "arr_1 + arr_2"
   ]
  },
  {
   "cell_type": "code",
   "execution_count": 29,
   "id": "2550422f-98b9-4019-85b8-60055823b823",
   "metadata": {},
   "outputs": [],
   "source": [
    "arr = np.array([[1, 2, 3], [4, 5, 6]])"
   ]
  },
  {
   "cell_type": "code",
   "execution_count": 30,
   "id": "c3a14d87-4396-4d0e-bac8-f2b5bef72270",
   "metadata": {},
   "outputs": [
    {
     "data": {
      "text/plain": [
       "array([[1, 2, 3],\n",
       "       [4, 5, 6]])"
      ]
     },
     "execution_count": 30,
     "metadata": {},
     "output_type": "execute_result"
    }
   ],
   "source": [
    "arr"
   ]
  },
  {
   "cell_type": "code",
   "execution_count": 31,
   "id": "58361dfa-6a92-464f-b8f2-8b90716ba0d8",
   "metadata": {},
   "outputs": [
    {
     "data": {
      "text/plain": [
       "array([4, 5, 6])"
      ]
     },
     "execution_count": 31,
     "metadata": {},
     "output_type": "execute_result"
    }
   ],
   "source": [
    "arr[1]"
   ]
  },
  {
   "cell_type": "code",
   "execution_count": 32,
   "id": "bbfc2fdf-b5a3-44e7-94ba-e30327742f2a",
   "metadata": {},
   "outputs": [
    {
     "data": {
      "text/plain": [
       "np.int64(3)"
      ]
     },
     "execution_count": 32,
     "metadata": {},
     "output_type": "execute_result"
    }
   ],
   "source": [
    "arr[0,2]"
   ]
  },
  {
   "cell_type": "code",
   "execution_count": 33,
   "id": "6c3c6dfb-fabb-4797-9b2a-fa57ce13348b",
   "metadata": {},
   "outputs": [
    {
     "data": {
      "text/plain": [
       "np.int64(3)"
      ]
     },
     "execution_count": 33,
     "metadata": {},
     "output_type": "execute_result"
    }
   ],
   "source": [
    "arr[0][2]"
   ]
  },
  {
   "cell_type": "code",
   "execution_count": 39,
   "id": "75110c8b-898b-4fda-96d0-c7d36bfb06c0",
   "metadata": {},
   "outputs": [
    {
     "data": {
      "text/plain": [
       "array([[1, 2],\n",
       "       [4, 5]])"
      ]
     },
     "execution_count": 39,
     "metadata": {},
     "output_type": "execute_result"
    }
   ],
   "source": [
    "arr[:,:2]"
   ]
  },
  {
   "cell_type": "code",
   "execution_count": 40,
   "id": "73b195a3-32ff-4ba5-8e8e-762c473ff9a8",
   "metadata": {},
   "outputs": [
    {
     "data": {
      "text/plain": [
       "array([[4, 5, 6],\n",
       "       [1, 2, 3]])"
      ]
     },
     "execution_count": 40,
     "metadata": {},
     "output_type": "execute_result"
    }
   ],
   "source": [
    "arr[::-1]"
   ]
  },
  {
   "cell_type": "code",
   "execution_count": 46,
   "id": "527ba6e2-da53-4d7b-9ab3-748330668240",
   "metadata": {},
   "outputs": [
    {
     "data": {
      "text/plain": [
       "array([[4, 1, 3],\n",
       "       [8, 3, 2],\n",
       "       [2, 2, 7]], dtype=int32)"
      ]
     },
     "execution_count": 46,
     "metadata": {},
     "output_type": "execute_result"
    }
   ],
   "source": [
    "arr1 = np.random.randint(1,9,9).reshape(3,3)\n",
    "arr1"
   ]
  },
  {
   "cell_type": "code",
   "execution_count": 55,
   "id": "ca6908ca-5c73-4ed0-8244-6b195884e8f1",
   "metadata": {},
   "outputs": [],
   "source": [
    "i_row = [0,1,2]\n",
    "i_col = [0,1,2]"
   ]
  },
  {
   "cell_type": "code",
   "execution_count": 59,
   "id": "ce75105d-0abb-4642-b324-4d7a22af2f39",
   "metadata": {},
   "outputs": [
    {
     "data": {
      "text/plain": [
       "array([4, 3, 7], dtype=int32)"
      ]
     },
     "execution_count": 59,
     "metadata": {},
     "output_type": "execute_result"
    }
   ],
   "source": [
    "arr1[i_row,i_col]"
   ]
  },
  {
   "cell_type": "code",
   "execution_count": 63,
   "id": "21994716-5d82-4741-a6ea-e108845c5451",
   "metadata": {},
   "outputs": [
    {
     "data": {
      "text/plain": [
       "array([[10, 20, 30],\n",
       "       [40, 50, 60],\n",
       "       [70, 80, 90]])"
      ]
     },
     "execution_count": 63,
     "metadata": {},
     "output_type": "execute_result"
    }
   ],
   "source": [
    "arr2 = np.array([[10, 20, 30],\n",
    "       [40, 50, 60],\n",
    "       [70, 80, 90]])\n",
    "arr2"
   ]
  },
  {
   "cell_type": "code",
   "execution_count": 70,
   "id": "2d21e7fc-d1bc-4cb8-aacd-3359722d422a",
   "metadata": {},
   "outputs": [],
   "source": [
    "arr3 = np.array([\n",
    "      [[4, 1, 3],\n",
    "       [8, 3, 2],\n",
    "       [2, 2, 7]], \n",
    "    \n",
    "      [[10, 20, 30],\n",
    "       [40, 50, 60],\n",
    "       [70, 80, 90]]\n",
    "\n",
    "])"
   ]
  },
  {
   "cell_type": "code",
   "execution_count": 71,
   "id": "b356e4a1-2873-43ea-8b9c-1a1a3000b2f6",
   "metadata": {},
   "outputs": [],
   "source": [
    "i_matrix = [0,0,0,1,1,1]\n",
    "i_row = [0,1,2,0,1,2]\n",
    "i_col = [0,1,2,0,1,2]"
   ]
  },
  {
   "cell_type": "code",
   "execution_count": 72,
   "id": "a20059e6-4264-4b72-bae0-ae706c265d86",
   "metadata": {},
   "outputs": [
    {
     "data": {
      "text/plain": [
       "array([ 4,  3,  7, 10, 50, 90])"
      ]
     },
     "execution_count": 72,
     "metadata": {},
     "output_type": "execute_result"
    }
   ],
   "source": [
    "arr3[i_matrix, i_row, i_col]"
   ]
  },
  {
   "cell_type": "code",
   "execution_count": null,
   "id": "0fba16d9-2379-45be-b193-575f294b648f",
   "metadata": {},
   "outputs": [],
   "source": []
  }
 ],
 "metadata": {
  "kernelspec": {
   "display_name": "Python 3 (ipykernel)",
   "language": "python",
   "name": "python3"
  },
  "language_info": {
   "codemirror_mode": {
    "name": "ipython",
    "version": 3
   },
   "file_extension": ".py",
   "mimetype": "text/x-python",
   "name": "python",
   "nbconvert_exporter": "python",
   "pygments_lexer": "ipython3",
   "version": "3.13.7"
  }
 },
 "nbformat": 4,
 "nbformat_minor": 5
}
