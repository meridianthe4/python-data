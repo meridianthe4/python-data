{
 "cells": [
  {
   "cell_type": "code",
   "execution_count": 1,
   "id": "d1318f63-eaa2-444b-a94f-f15ea06b03c9",
   "metadata": {},
   "outputs": [],
   "source": [
    "import numpy as np"
   ]
  },
  {
   "cell_type": "markdown",
   "id": "cd4f76ea-26f9-4a63-9bfa-f2823985ecdd",
   "metadata": {},
   "source": [
    "Set 1:\n",
    "\n",
    "Create a 3×3 array of all True Boolean values\n",
    "\n",
    "Extract odd numbers from an array\n",
    "\n",
    "Replace all odd numbers with -1\n",
    "\n",
    "Reverse columns of a 2D array\n",
    "\n",
    "Get indices of elements greater than 5 [hint: check where method of numpy]\n",
    "\n",
    "Access last row - last column\n"
   ]
  },
  {
   "cell_type": "code",
   "execution_count": 3,
   "id": "713ad879-745c-4647-a42b-4e8d22e10d0e",
   "metadata": {},
   "outputs": [
    {
     "data": {
      "text/plain": [
       "array([[ True,  True,  True],\n",
       "       [ True,  True,  True],\n",
       "       [ True,  True,  True]])"
      ]
     },
     "execution_count": 3,
     "metadata": {},
     "output_type": "execute_result"
    }
   ],
   "source": [
    "arr1 = np.full((3, 3), True)\n",
    "arr1"
   ]
  },
  {
   "cell_type": "code",
   "execution_count": 11,
   "id": "621d5599-3a32-4d82-8e60-ef715af8d977",
   "metadata": {},
   "outputs": [
    {
     "data": {
      "text/plain": [
       "array([16, 12, 25,  3, 24, 24, 23, 23, 18,  7, 21,  2, 15, 25, 21],\n",
       "      dtype=int32)"
      ]
     },
     "execution_count": 11,
     "metadata": {},
     "output_type": "execute_result"
    }
   ],
   "source": [
    "arr2 = np.random.randint(2, 30, 15)\n",
    "arr2"
   ]
  },
  {
   "cell_type": "code",
   "execution_count": 12,
   "id": "affe6607-b2da-4c49-99c8-e3e3633e0c42",
   "metadata": {},
   "outputs": [
    {
     "data": {
      "text/plain": [
       "array([25,  3, 23, 23,  7, 21, 15, 25, 21], dtype=int32)"
      ]
     },
     "execution_count": 12,
     "metadata": {},
     "output_type": "execute_result"
    }
   ],
   "source": [
    "arr2[arr2%2==1]"
   ]
  },
  {
   "cell_type": "code",
   "execution_count": 13,
   "id": "a3b8ffc1-babe-4c8d-8241-2ee75a22a120",
   "metadata": {},
   "outputs": [
    {
     "data": {
      "text/plain": [
       "array([16, 12, -1, -1, 24, 24, -1, -1, 18, -1, -1,  2, -1, -1, -1],\n",
       "      dtype=int32)"
      ]
     },
     "execution_count": 13,
     "metadata": {},
     "output_type": "execute_result"
    }
   ],
   "source": [
    "arr2[arr2%2==1] = -1\n",
    "arr2"
   ]
  },
  {
   "cell_type": "code",
   "execution_count": 41,
   "id": "58989399-7f0a-4b53-aa30-a220e57433b5",
   "metadata": {},
   "outputs": [
    {
     "data": {
      "text/plain": [
       "array([[9, 8, 7],\n",
       "       [6, 5, 4],\n",
       "       [3, 2, 1]])"
      ]
     },
     "execution_count": 41,
     "metadata": {},
     "output_type": "execute_result"
    }
   ],
   "source": [
    "arr3 = np.array([[9, 8, 7], [6, 5, 4], [3, 2, 1]])\n",
    "arr3"
   ]
  },
  {
   "cell_type": "markdown",
   "id": "853f5acc-0751-48cb-8d7d-0579391802e3",
   "metadata": {},
   "source": [
    "Column Reversed"
   ]
  },
  {
   "cell_type": "code",
   "execution_count": 42,
   "id": "f900f03a-c335-4304-a26a-9573f5841ffe",
   "metadata": {},
   "outputs": [
    {
     "data": {
      "text/plain": [
       "array([[3, 2, 1],\n",
       "       [6, 5, 4],\n",
       "       [9, 8, 7]])"
      ]
     },
     "execution_count": 42,
     "metadata": {},
     "output_type": "execute_result"
    }
   ],
   "source": [
    "arr3[::-1]"
   ]
  },
  {
   "cell_type": "code",
   "execution_count": 43,
   "id": "e9b65fff-6387-4cc6-9601-94e3fb4bfbb3",
   "metadata": {},
   "outputs": [
    {
     "data": {
      "text/plain": [
       "array([7, 8, 0, 6, 8, 5, 2, 5, 6, 6], dtype=int32)"
      ]
     },
     "execution_count": 43,
     "metadata": {},
     "output_type": "execute_result"
    }
   ],
   "source": [
    "arr4 = np.random.randint(0, 10, 10)\n",
    "arr4"
   ]
  },
  {
   "cell_type": "code",
   "execution_count": 44,
   "id": "dc92e685-e299-439e-85f7-eaa3d855f63a",
   "metadata": {},
   "outputs": [
    {
     "data": {
      "text/plain": [
       "(array([0, 1, 3, 4, 8, 9]),)"
      ]
     },
     "execution_count": 44,
     "metadata": {},
     "output_type": "execute_result"
    }
   ],
   "source": [
    "np.where(arr4 > 5)"
   ]
  },
  {
   "cell_type": "code",
   "execution_count": 45,
   "id": "54ae31ce-3abf-4c3c-9534-47fb28d2a9e0",
   "metadata": {},
   "outputs": [
    {
     "data": {
      "text/plain": [
       "np.int64(1)"
      ]
     },
     "execution_count": 45,
     "metadata": {},
     "output_type": "execute_result"
    }
   ],
   "source": [
    "arr3[-1][-1]"
   ]
  },
  {
   "cell_type": "markdown",
   "id": "e0fb6cda-8776-4280-bf8c-abfce69eb8dc",
   "metadata": {},
   "source": [
    "Set 2:\n",
    "Normalize a NumPy array [ to normalize means scaling the values of an array into a specific range, often [0, 1]]\n",
    "\n",
    "Create a 5×5 array with 1 on border and 0 inside\n",
    "\n",
    "Create a random array of 10×10: perform stats (min, max, mean, std)\n",
    "\n",
    "Broadcast a 1D array over a 2D array [all possible scenarios]\n",
    "\n",
    "Sort a 2D array by column 1 [hint: check method argsort()]\n"
   ]
  },
  {
   "cell_type": "code",
   "execution_count": 76,
   "id": "04986eed-2223-49eb-9117-e2da6412df13",
   "metadata": {},
   "outputs": [],
   "source": [
    "arr4 = np.random.random((3, 4))*100\n",
    "arr4 = arr4.astype(int)"
   ]
  },
  {
   "cell_type": "code",
   "execution_count": 77,
   "id": "d91b005d-f34b-494d-870f-d03782c5d685",
   "metadata": {},
   "outputs": [
    {
     "data": {
      "text/plain": [
       "array([[97, 77, 37, 42],\n",
       "       [15,  4, 99, 37],\n",
       "       [48, 85, 68, 43]])"
      ]
     },
     "execution_count": 77,
     "metadata": {},
     "output_type": "execute_result"
    }
   ],
   "source": [
    "arr4"
   ]
  },
  {
   "cell_type": "code",
   "execution_count": 78,
   "id": "f821da28-23ca-4fae-a89e-6441f99361e1",
   "metadata": {},
   "outputs": [
    {
     "data": {
      "text/plain": [
       "array([[0.97, 0.77, 0.37, 0.42],\n",
       "       [0.15, 0.04, 0.99, 0.37],\n",
       "       [0.48, 0.85, 0.68, 0.43]])"
      ]
     },
     "execution_count": 78,
     "metadata": {},
     "output_type": "execute_result"
    }
   ],
   "source": [
    "arr4/100"
   ]
  },
  {
   "cell_type": "code",
   "execution_count": 180,
   "id": "134aff37-772e-4004-abfa-b989f79f8c25",
   "metadata": {},
   "outputs": [
    {
     "data": {
      "text/plain": [
       "array([[1, 1, 1, 1, 1],\n",
       "       [1, 1, 1, 1, 1],\n",
       "       [1, 1, 1, 1, 1],\n",
       "       [1, 1, 1, 1, 1],\n",
       "       [1, 1, 1, 1, 1]])"
      ]
     },
     "execution_count": 180,
     "metadata": {},
     "output_type": "execute_result"
    }
   ],
   "source": [
    "arr5 = np.ones((5, 5))\n",
    "arr5 = arr5.astype(int)\n",
    "arr5"
   ]
  },
  {
   "cell_type": "code",
   "execution_count": 181,
   "id": "33f0d714-f941-4535-b245-a38c12c10d5c",
   "metadata": {},
   "outputs": [
    {
     "data": {
      "text/plain": [
       "array([[1, 1, 1, 1, 1],\n",
       "       [1, 0, 0, 0, 1],\n",
       "       [1, 0, 0, 0, 1],\n",
       "       [1, 0, 0, 0, 1],\n",
       "       [1, 1, 1, 1, 1]])"
      ]
     },
     "execution_count": 181,
     "metadata": {},
     "output_type": "execute_result"
    }
   ],
   "source": [
    "arr5[1:-1,1:-1]=0\n",
    "arr5"
   ]
  },
  {
   "cell_type": "code",
   "execution_count": 182,
   "id": "08a28bd7-b7e3-4106-b9d2-8999b4e839fb",
   "metadata": {},
   "outputs": [],
   "source": [
    "# arr5[0]=2\n",
    "# arr5[-1]=2\n",
    "# arr5[:1,1:-1]=3\n",
    "# arr5[-1:,1:-1]=3\n",
    "# arr5[1:-1,:1]=4\n",
    "# arr5[1:-1,-1:]=4\n",
    "# arr5[1:-1,1:-1]=5"
   ]
  },
  {
   "cell_type": "code",
   "execution_count": 195,
   "id": "7ef284e8-b535-40e8-90cf-42c7ff16f903",
   "metadata": {},
   "outputs": [
    {
     "data": {
      "text/plain": [
       "array([[81, 76, 88, 26,  5, 47, 49,  0, 20, 22],\n",
       "       [95, 94, 48, 15, 30, 85, 19, 24, 80, 65],\n",
       "       [16, 64, 81,  6,  7, 44, 95,  0, 15, 39],\n",
       "       [88, 94,  2, 10, 99, 53,  6, 68, 81, 18],\n",
       "       [41, 67, 63, 59, 58, 91, 58, 99, 61, 46],\n",
       "       [ 7, 45, 77, 46, 82, 42, 91, 82, 66, 62],\n",
       "       [56, 37, 75, 43, 14, 48, 89, 82, 73, 51],\n",
       "       [ 1,  6, 42, 36, 30, 60, 66, 71,  8, 89],\n",
       "       [75, 91, 99, 97, 81, 18, 73, 83, 17, 60],\n",
       "       [20, 62, 49,  8, 87, 50, 75, 63, 23, 73]])"
      ]
     },
     "execution_count": 195,
     "metadata": {},
     "output_type": "execute_result"
    }
   ],
   "source": [
    "arr6 = np.random.random((10,10))*100\n",
    "arr6 = arr6.astype(int)\n",
    "arr6"
   ]
  },
  {
   "cell_type": "code",
   "execution_count": 196,
   "id": "fb736c01-b275-4f8b-b75a-d7be74edfd54",
   "metadata": {},
   "outputs": [
    {
     "data": {
      "text/plain": [
       "np.int64(0)"
      ]
     },
     "execution_count": 196,
     "metadata": {},
     "output_type": "execute_result"
    }
   ],
   "source": [
    "np.min(arr6)"
   ]
  },
  {
   "cell_type": "code",
   "execution_count": 197,
   "id": "812e3fce-cd6c-4a14-9548-ca6c75269653",
   "metadata": {},
   "outputs": [
    {
     "data": {
      "text/plain": [
       "np.int64(99)"
      ]
     },
     "execution_count": 197,
     "metadata": {},
     "output_type": "execute_result"
    }
   ],
   "source": [
    "np.max(arr6)"
   ]
  },
  {
   "cell_type": "code",
   "execution_count": 198,
   "id": "4ea5c896-6e86-44f4-9c9a-0e5bfbcf81c8",
   "metadata": {},
   "outputs": [
    {
     "data": {
      "text/plain": [
       "np.float64(52.79)"
      ]
     },
     "execution_count": 198,
     "metadata": {},
     "output_type": "execute_result"
    }
   ],
   "source": [
    "np.mean(arr6)"
   ]
  },
  {
   "cell_type": "code",
   "execution_count": 199,
   "id": "dc645b7f-5a9d-400b-b8cd-f03f7aee59d2",
   "metadata": {},
   "outputs": [
    {
     "data": {
      "text/plain": [
       "np.float64(29.77727153383936)"
      ]
     },
     "execution_count": 199,
     "metadata": {},
     "output_type": "execute_result"
    }
   ],
   "source": [
    "np.std(arr6)"
   ]
  },
  {
   "cell_type": "code",
   "execution_count": 206,
   "id": "ffefc78a-5e72-46fb-9da6-9b2c181c3400",
   "metadata": {},
   "outputs": [],
   "source": [
    "arr1d = np.array([1,2,3])"
   ]
  },
  {
   "cell_type": "code",
   "execution_count": 207,
   "id": "d03a9963-2d6a-4601-8dff-10020e9f9cbb",
   "metadata": {},
   "outputs": [],
   "source": [
    "arr2d = np.array([[1, 2, 3], [4, 5, 6], [7, 8, 9]])"
   ]
  },
  {
   "cell_type": "code",
   "execution_count": 208,
   "id": "5998c4a6-01ae-4cde-aad8-f840bfeb2163",
   "metadata": {},
   "outputs": [
    {
     "data": {
      "text/plain": [
       "array([[ 2,  4,  6],\n",
       "       [ 5,  7,  9],\n",
       "       [ 8, 10, 12]])"
      ]
     },
     "execution_count": 208,
     "metadata": {},
     "output_type": "execute_result"
    }
   ],
   "source": [
    "arr2d + arr1d"
   ]
  },
  {
   "cell_type": "code",
   "execution_count": 209,
   "id": "c49c8755-1cc6-4cfe-9769-0cfdde47bf0f",
   "metadata": {},
   "outputs": [
    {
     "data": {
      "text/plain": [
       "array([[ 2,  3,  4],\n",
       "       [ 6,  7,  8],\n",
       "       [10, 11, 12]])"
      ]
     },
     "execution_count": 209,
     "metadata": {},
     "output_type": "execute_result"
    }
   ],
   "source": [
    "arr2d + arr1d.reshape(3,1)"
   ]
  },
  {
   "cell_type": "code",
   "execution_count": 211,
   "id": "8ec21813-d536-43cf-a728-99b95b4c3347",
   "metadata": {},
   "outputs": [
    {
     "data": {
      "text/plain": [
       "array([[11, 12, 13],\n",
       "       [14, 15, 16],\n",
       "       [17, 18, 19]])"
      ]
     },
     "execution_count": 211,
     "metadata": {},
     "output_type": "execute_result"
    }
   ],
   "source": [
    "arr2d + np.array([10])"
   ]
  },
  {
   "cell_type": "code",
   "execution_count": 219,
   "id": "1898615a-5e49-486f-bc0a-00b838c7aba9",
   "metadata": {},
   "outputs": [],
   "source": [
    "arr7 = np.array([[97, 77, 37, 42],\n",
    "                 [15,  4, 99, 37],\n",
    "                 [48, 85, 68, 43]])"
   ]
  },
  {
   "cell_type": "code",
   "execution_count": 225,
   "id": "9df691e6-5e6c-4057-879a-f71382a09896",
   "metadata": {},
   "outputs": [
    {
     "data": {
      "text/plain": [
       "array([1, 2, 0])"
      ]
     },
     "execution_count": 225,
     "metadata": {},
     "output_type": "execute_result"
    }
   ],
   "source": [
    "col_ind = np.argsort(arr7[:, 0])\n",
    "col_ind"
   ]
  },
  {
   "cell_type": "code",
   "execution_count": 226,
   "id": "2f66956b-ad76-43b9-afda-947b779ab5b5",
   "metadata": {},
   "outputs": [
    {
     "data": {
      "text/plain": [
       "array([[15,  4, 99, 37],\n",
       "       [48, 85, 68, 43],\n",
       "       [97, 77, 37, 42]])"
      ]
     },
     "execution_count": 226,
     "metadata": {},
     "output_type": "execute_result"
    }
   ],
   "source": [
    "arr7[col_ind]"
   ]
  },
  {
   "cell_type": "markdown",
   "id": "3e6bfbd7-51ed-4824-8349-b29b20234299",
   "metadata": {},
   "source": [
    "Set 3:\n",
    "\n",
    "Find common elements between two arrays [with and without using intersect1d]\n",
    "\n",
    "Subtract row mean from each row of a 2D array\n",
    "\n",
    "Given a 4×4 array, swap the first half rows with the second half rows\n",
    "\n",
    "Given a 1D array of random numbers, find the indices of the 5 largest values (no sorting/ check argsort() instead).\n",
    "\n",
    "From a 2D NumPy array, extract only the unique rows (no duplicates hint: check unique method).\n"
   ]
  },
  {
   "cell_type": "code",
   "execution_count": 227,
   "id": "ed08cc45-2283-4c51-a28f-2a356e2309c3",
   "metadata": {},
   "outputs": [],
   "source": [
    "arr10= np.array([1,2,3,6,7,5,10,2,23,3,89,25,633])\n",
    "arr11 = np.array([1,2,3,18,45,20,32,100,150,200,250])"
   ]
  },
  {
   "cell_type": "code",
   "execution_count": 236,
   "id": "c98b59ac-ff36-4023-a0c2-2e40d109fd15",
   "metadata": {},
   "outputs": [],
   "source": [
    "inter = np.intersect1d(arr10,arr11)"
   ]
  },
  {
   "cell_type": "code",
   "execution_count": 237,
   "id": "c76d3267-a521-43c2-b54c-276d1b481139",
   "metadata": {},
   "outputs": [
    {
     "data": {
      "text/plain": [
       "array([1, 2, 3])"
      ]
     },
     "execution_count": 237,
     "metadata": {},
     "output_type": "execute_result"
    }
   ],
   "source": [
    "inter"
   ]
  },
  {
   "cell_type": "code",
   "execution_count": 241,
   "id": "1c066126-9c08-4726-813a-adef771f8284",
   "metadata": {},
   "outputs": [
    {
     "data": {
      "text/plain": [
       "array([1, 2, 3, 2, 3])"
      ]
     },
     "execution_count": 241,
     "metadata": {},
     "output_type": "execute_result"
    }
   ],
   "source": [
    "inter2 = np.isin(arr10,arr11)\n",
    "arr10[inter2]"
   ]
  },
  {
   "cell_type": "code",
   "execution_count": 242,
   "id": "05c6d108-9ec6-4a51-8b27-5c424a474ec8",
   "metadata": {},
   "outputs": [
    {
     "data": {
      "text/plain": [
       "array([[1, 2, 3],\n",
       "       [4, 5, 6],\n",
       "       [7, 8, 9]])"
      ]
     },
     "execution_count": 242,
     "metadata": {},
     "output_type": "execute_result"
    }
   ],
   "source": [
    "arr12 = np.array([[1, 2, 3], [4, 5, 6], [7, 8, 9]])\n",
    "arr12"
   ]
  },
  {
   "cell_type": "code",
   "execution_count": 249,
   "id": "efcdaea8-787e-4303-b5b9-d8b9f89c9e27",
   "metadata": {},
   "outputs": [
    {
     "name": "stdout",
     "output_type": "stream",
     "text": [
      "[[2.]\n",
      " [5.]\n",
      " [8.]]\n"
     ]
    },
    {
     "data": {
      "text/plain": [
       "array([[-1.,  0.,  1.],\n",
       "       [-1.,  0.,  1.],\n",
       "       [-1.,  0.,  1.]])"
      ]
     },
     "execution_count": 249,
     "metadata": {},
     "output_type": "execute_result"
    }
   ],
   "source": [
    "row_mean = arr12.mean(axis=1)\n",
    "row_mean = row_mean.reshape(-1, 1)\n",
    "print(row_mean)\n",
    "sub_mean = arr12-row_mean\n",
    "sub_mean"
   ]
  },
  {
   "cell_type": "code",
   "execution_count": 250,
   "id": "81ac9271-5dd6-4fd0-b3dc-582f218ea883",
   "metadata": {},
   "outputs": [],
   "source": [
    "arr13 = np.array([[1, 2, 3, 4],\n",
    "              [5, 6, 7, 8],\n",
    "              [9, 10, 11, 12],\n",
    "              [13, 14, 15, 16]])"
   ]
  },
  {
   "cell_type": "code",
   "execution_count": 251,
   "id": "e82245d0-b785-4950-a427-658772a860cc",
   "metadata": {},
   "outputs": [
    {
     "data": {
      "text/plain": [
       "array([[ 9, 10, 11, 12],\n",
       "       [13, 14, 15, 16],\n",
       "       [ 1,  2,  3,  4],\n",
       "       [ 5,  6,  7,  8]])"
      ]
     },
     "execution_count": 251,
     "metadata": {},
     "output_type": "execute_result"
    }
   ],
   "source": [
    "arr13[[0, 1, 2, 3]] = arr13[[2, 3, 0, 1]]\n",
    "arr13"
   ]
  },
  {
   "cell_type": "code",
   "execution_count": 257,
   "id": "dfc95b6f-ad2f-4dfd-ac7d-e21a6868692d",
   "metadata": {},
   "outputs": [],
   "source": [
    "arr14 = np.array([[1, 2, 3, 4],\n",
    "              [5, 6, 7, 8],\n",
    "              [9, 10, 11, 12],\n",
    "              [13, 14, 15, 16]])"
   ]
  },
  {
   "cell_type": "code",
   "execution_count": 258,
   "id": "b91ac035-5695-49ef-adc8-fe85fde86b7e",
   "metadata": {},
   "outputs": [
    {
     "data": {
      "text/plain": [
       "array([[ 9, 10, 11, 12],\n",
       "       [13, 14, 15, 16],\n",
       "       [ 1,  2,  3,  4],\n",
       "       [ 5,  6,  7,  8]])"
      ]
     },
     "execution_count": 258,
     "metadata": {},
     "output_type": "execute_result"
    }
   ],
   "source": [
    "arr15 = np.vstack((arr14[2:],arr14[:2]))\n",
    "arr15"
   ]
  },
  {
   "cell_type": "code",
   "execution_count": 260,
   "id": "305cd7ab-a93d-450b-8ea0-65ff87e4664c",
   "metadata": {},
   "outputs": [
    {
     "data": {
      "text/plain": [
       "array([2, 5, 3, 5, 5, 1], dtype=int32)"
      ]
     },
     "execution_count": 260,
     "metadata": {},
     "output_type": "execute_result"
    }
   ],
   "source": [
    "arr16 = np.random.randint(6,size=6)\n",
    "arr16"
   ]
  },
  {
   "cell_type": "code",
   "execution_count": 261,
   "id": "c054cad2-7ca8-473c-9d98-6c97b6369cc4",
   "metadata": {},
   "outputs": [
    {
     "data": {
      "text/plain": [
       "array([2], dtype=int32)"
      ]
     },
     "execution_count": 261,
     "metadata": {},
     "output_type": "execute_result"
    }
   ],
   "source": [
    "a = arr16[np.argsort(arr16)==5]\n",
    "a"
   ]
  },
  {
   "cell_type": "code",
   "execution_count": 263,
   "id": "abc809d4-81f2-43b8-a373-21f1806836c0",
   "metadata": {},
   "outputs": [
    {
     "data": {
      "text/plain": [
       "np.int64(0)"
      ]
     },
     "execution_count": 263,
     "metadata": {},
     "output_type": "execute_result"
    }
   ],
   "source": [
    "np.where(arr16 == a)[0][0]"
   ]
  },
  {
   "cell_type": "code",
   "execution_count": 264,
   "id": "c49a4bfb-00c2-480f-a5a3-f0ccf81d0751",
   "metadata": {},
   "outputs": [
    {
     "name": "stdout",
     "output_type": "stream",
     "text": [
      "[2 5 3 5 5 1]\n",
      "value: 5  index 4\n"
     ]
    }
   ],
   "source": [
    "idx = np.argsort(arr16)[-1]\n",
    "val = arr16[idx]\n",
    "print(arr16)\n",
    "print(\"value:\", val, \" index\", idx)"
   ]
  },
  {
   "cell_type": "code",
   "execution_count": 259,
   "id": "50e5c180-2168-4bbb-b748-4172a3370760",
   "metadata": {},
   "outputs": [
    {
     "name": "stdout",
     "output_type": "stream",
     "text": [
      "[[1 2 3]\n",
      " [4 5 6]\n",
      " [1 2 3]\n",
      " [7 8 9]\n",
      " [4 5 6]]\n"
     ]
    },
    {
     "data": {
      "text/plain": [
       "array([[1, 2, 3],\n",
       "       [4, 5, 6],\n",
       "       [7, 8, 9]])"
      ]
     },
     "execution_count": 259,
     "metadata": {},
     "output_type": "execute_result"
    }
   ],
   "source": [
    "arr = np.array([[1, 2, 3],\n",
    "                [4, 5, 6],\n",
    "                [1, 2, 3],\n",
    "                [7, 8, 9],\n",
    "                [4, 5, 6]])  \n",
    "unique_rows = np.unique(arr, axis=0)\n",
    "\n",
    "print(arr)\n",
    "unique_rows\n"
   ]
  },
  {
   "cell_type": "code",
   "execution_count": null,
   "id": "7291b542-5fc3-4189-af6c-144b6039ab3e",
   "metadata": {},
   "outputs": [],
   "source": []
  }
 ],
 "metadata": {
  "kernelspec": {
   "display_name": "Python 3 (ipykernel)",
   "language": "python",
   "name": "python3"
  },
  "language_info": {
   "codemirror_mode": {
    "name": "ipython",
    "version": 3
   },
   "file_extension": ".py",
   "mimetype": "text/x-python",
   "name": "python",
   "nbconvert_exporter": "python",
   "pygments_lexer": "ipython3",
   "version": "3.13.7"
  }
 },
 "nbformat": 4,
 "nbformat_minor": 5
}
