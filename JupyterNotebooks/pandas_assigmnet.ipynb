{
 "cells": [
  {
   "cell_type": "code",
   "execution_count": 2,
   "id": "a8681959-07b2-4989-a135-04bf577c1ab4",
   "metadata": {},
   "outputs": [],
   "source": [
    "import pandas as pd"
   ]
  },
  {
   "cell_type": "markdown",
   "id": "6792cfe0-c65e-4107-b244-c99186c66b87",
   "metadata": {},
   "source": [
    "Q1. Create a DataFrame containing student information like Name, Age, Department, %Marks\n",
    "Display column names of the DF\n",
    "Show min/max and average marks\n",
    "Get unique values and student count for each Department\n"
   ]
  },
  {
   "cell_type": "code",
   "execution_count": 6,
   "id": "4f5b8302-e517-4f9d-9a22-6ee27d44a2ff",
   "metadata": {},
   "outputs": [
    {
     "data": {
      "text/html": [
       "<div>\n",
       "<style scoped>\n",
       "    .dataframe tbody tr th:only-of-type {\n",
       "        vertical-align: middle;\n",
       "    }\n",
       "\n",
       "    .dataframe tbody tr th {\n",
       "        vertical-align: top;\n",
       "    }\n",
       "\n",
       "    .dataframe thead th {\n",
       "        text-align: right;\n",
       "    }\n",
       "</style>\n",
       "<table border=\"1\" class=\"dataframe\">\n",
       "  <thead>\n",
       "    <tr style=\"text-align: right;\">\n",
       "      <th></th>\n",
       "      <th>Name</th>\n",
       "      <th>Age</th>\n",
       "      <th>Department</th>\n",
       "      <th>Marks</th>\n",
       "    </tr>\n",
       "  </thead>\n",
       "  <tbody>\n",
       "    <tr>\n",
       "      <th>0</th>\n",
       "      <td>Alice</td>\n",
       "      <td>20</td>\n",
       "      <td>Computer Science</td>\n",
       "      <td>88</td>\n",
       "    </tr>\n",
       "    <tr>\n",
       "      <th>1</th>\n",
       "      <td>Bob</td>\n",
       "      <td>21</td>\n",
       "      <td>Mathematics</td>\n",
       "      <td>92</td>\n",
       "    </tr>\n",
       "    <tr>\n",
       "      <th>2</th>\n",
       "      <td>Charlie</td>\n",
       "      <td>19</td>\n",
       "      <td>Physics</td>\n",
       "      <td>85</td>\n",
       "    </tr>\n",
       "    <tr>\n",
       "      <th>3</th>\n",
       "      <td>David</td>\n",
       "      <td>22</td>\n",
       "      <td>Mathematics</td>\n",
       "      <td>78</td>\n",
       "    </tr>\n",
       "    <tr>\n",
       "      <th>4</th>\n",
       "      <td>Eva</td>\n",
       "      <td>20</td>\n",
       "      <td>Physics</td>\n",
       "      <td>90</td>\n",
       "    </tr>\n",
       "    <tr>\n",
       "      <th>5</th>\n",
       "      <td>Mrugank</td>\n",
       "      <td>22</td>\n",
       "      <td>Mathematics</td>\n",
       "      <td>95</td>\n",
       "    </tr>\n",
       "    <tr>\n",
       "      <th>6</th>\n",
       "      <td>Vedant</td>\n",
       "      <td>22</td>\n",
       "      <td>Mathematics</td>\n",
       "      <td>100</td>\n",
       "    </tr>\n",
       "  </tbody>\n",
       "</table>\n",
       "</div>"
      ],
      "text/plain": [
       "      Name  Age        Department  Marks\n",
       "0    Alice   20  Computer Science     88\n",
       "1      Bob   21       Mathematics     92\n",
       "2  Charlie   19           Physics     85\n",
       "3    David   22       Mathematics     78\n",
       "4      Eva   20           Physics     90\n",
       "5  Mrugank   22       Mathematics     95\n",
       "6   Vedant   22       Mathematics    100"
      ]
     },
     "execution_count": 6,
     "metadata": {},
     "output_type": "execute_result"
    }
   ],
   "source": [
    "data = {\n",
    "    \"Name\": [\"Alice\", \"Bob\", \"Charlie\", \"David\", \"Eva\",\"Mrugank\",\"Vedant\"],\n",
    "    \"Age\": [20, 21, 19, 22, 20, 22, 22],\n",
    "    \"Department\": [\"Computer Science\", \"Mathematics\", \"Physics\", \"Mathematics\", \"Physics\", \"Mathematics\", \"Mathematics\"],\n",
    "    \"Marks\": [88, 92, 85, 78, 90, 95, 100]\n",
    "}\n",
    "df = pd.DataFrame(data)\n",
    "df"
   ]
  },
  {
   "cell_type": "code",
   "execution_count": 7,
   "id": "a41ee26d-538e-4b71-8324-5274f1863b35",
   "metadata": {},
   "outputs": [
    {
     "data": {
      "text/html": [
       "<div>\n",
       "<style scoped>\n",
       "    .dataframe tbody tr th:only-of-type {\n",
       "        vertical-align: middle;\n",
       "    }\n",
       "\n",
       "    .dataframe tbody tr th {\n",
       "        vertical-align: top;\n",
       "    }\n",
       "\n",
       "    .dataframe thead th {\n",
       "        text-align: right;\n",
       "    }\n",
       "</style>\n",
       "<table border=\"1\" class=\"dataframe\">\n",
       "  <thead>\n",
       "    <tr style=\"text-align: right;\">\n",
       "      <th></th>\n",
       "      <th>Age</th>\n",
       "      <th>Marks</th>\n",
       "    </tr>\n",
       "  </thead>\n",
       "  <tbody>\n",
       "    <tr>\n",
       "      <th>count</th>\n",
       "      <td>7.000000</td>\n",
       "      <td>7.000000</td>\n",
       "    </tr>\n",
       "    <tr>\n",
       "      <th>mean</th>\n",
       "      <td>20.857143</td>\n",
       "      <td>89.714286</td>\n",
       "    </tr>\n",
       "    <tr>\n",
       "      <th>std</th>\n",
       "      <td>1.214986</td>\n",
       "      <td>7.087884</td>\n",
       "    </tr>\n",
       "    <tr>\n",
       "      <th>min</th>\n",
       "      <td>19.000000</td>\n",
       "      <td>78.000000</td>\n",
       "    </tr>\n",
       "    <tr>\n",
       "      <th>25%</th>\n",
       "      <td>20.000000</td>\n",
       "      <td>86.500000</td>\n",
       "    </tr>\n",
       "    <tr>\n",
       "      <th>50%</th>\n",
       "      <td>21.000000</td>\n",
       "      <td>90.000000</td>\n",
       "    </tr>\n",
       "    <tr>\n",
       "      <th>75%</th>\n",
       "      <td>22.000000</td>\n",
       "      <td>93.500000</td>\n",
       "    </tr>\n",
       "    <tr>\n",
       "      <th>max</th>\n",
       "      <td>22.000000</td>\n",
       "      <td>100.000000</td>\n",
       "    </tr>\n",
       "  </tbody>\n",
       "</table>\n",
       "</div>"
      ],
      "text/plain": [
       "             Age       Marks\n",
       "count   7.000000    7.000000\n",
       "mean   20.857143   89.714286\n",
       "std     1.214986    7.087884\n",
       "min    19.000000   78.000000\n",
       "25%    20.000000   86.500000\n",
       "50%    21.000000   90.000000\n",
       "75%    22.000000   93.500000\n",
       "max    22.000000  100.000000"
      ]
     },
     "execution_count": 7,
     "metadata": {},
     "output_type": "execute_result"
    }
   ],
   "source": [
    "df.describe()"
   ]
  },
  {
   "cell_type": "code",
   "execution_count": 9,
   "id": "4e1d0753-47e7-4fa9-9d3f-8eb00582dd57",
   "metadata": {},
   "outputs": [],
   "source": [
    "min_marks = df[\"Marks\"].min()\n",
    "max_marks = df[\"Marks\"].max()\n",
    "avg_marks = df[\"Marks\"].mean()"
   ]
  },
  {
   "cell_type": "code",
   "execution_count": 11,
   "id": "fdea04c4-efd9-4244-afe3-0a760fa3d991",
   "metadata": {},
   "outputs": [
    {
     "name": "stdout",
     "output_type": "stream",
     "text": [
      "78\n",
      "100\n",
      "89.71428571428571\n"
     ]
    }
   ],
   "source": [
    "print(min_marks)\n",
    "print(max_marks)\n",
    "print(avg_marks)"
   ]
  },
  {
   "cell_type": "code",
   "execution_count": 12,
   "id": "5727f49b-e995-4553-b696-a333e1fac0d0",
   "metadata": {},
   "outputs": [
    {
     "data": {
      "text/plain": [
       "array(['Computer Science', 'Mathematics', 'Physics'], dtype=object)"
      ]
     },
     "execution_count": 12,
     "metadata": {},
     "output_type": "execute_result"
    }
   ],
   "source": [
    "unique_departments = df[\"Department\"].unique()\n",
    "unique_departments"
   ]
  },
  {
   "cell_type": "code",
   "execution_count": 13,
   "id": "dc1b9340-4556-4e17-a9a1-1bc2e94481a2",
   "metadata": {},
   "outputs": [
    {
     "data": {
      "text/plain": [
       "Department\n",
       "Mathematics         4\n",
       "Physics             2\n",
       "Computer Science    1\n",
       "Name: count, dtype: int64"
      ]
     },
     "execution_count": 13,
     "metadata": {},
     "output_type": "execute_result"
    }
   ],
   "source": [
    "student_count_per_dept = df[\"Department\"].value_counts()\n",
    "student_count_per_dept"
   ]
  },
  {
   "cell_type": "markdown",
   "id": "70de4fa1-bfb6-4569-bbe9-8dac1e9c8677",
   "metadata": {},
   "source": [
    "\n",
    "Q2. Read csv file solar.csv\n",
    "\n",
    "Display all the plants with capacity > 500 MW\n",
    "\n",
    "Display plant details for New York plant\n",
    "\n",
    "For all the plants display Average MW Per Plant and Generation (GWh)\n",
    "\n",
    "Sort the plants by Generation (GWh) (ascending) and Installed Capacity (MW)(descending)\n",
    "\n",
    "List top 5 plants for their Generation\n",
    "\n",
    "Display all plant details for states – California, Nevada, Arizona and Texas\n",
    "\n",
    "Group the plants by region, find – min/max capacity plant for each group\n",
    "\n",
    "Add following information to the existing details for the plants\n"
   ]
  },
  {
   "cell_type": "code",
   "execution_count": 33,
   "id": "f321fe70-5f9a-4993-ae0e-5b932fed7434",
   "metadata": {},
   "outputs": [
    {
     "data": {
      "text/html": [
       "<div>\n",
       "<style scoped>\n",
       "    .dataframe tbody tr th:only-of-type {\n",
       "        vertical-align: middle;\n",
       "    }\n",
       "\n",
       "    .dataframe tbody tr th {\n",
       "        vertical-align: top;\n",
       "    }\n",
       "\n",
       "    .dataframe thead th {\n",
       "        text-align: right;\n",
       "    }\n",
       "</style>\n",
       "<table border=\"1\" class=\"dataframe\">\n",
       "  <thead>\n",
       "    <tr style=\"text-align: right;\">\n",
       "      <th></th>\n",
       "      <th>State</th>\n",
       "      <th>Number of Solar Plants</th>\n",
       "      <th>Installed Capacity (MW)</th>\n",
       "      <th>Average MW Per Plant</th>\n",
       "      <th>Generation (GWh)</th>\n",
       "      <th>Region</th>\n",
       "    </tr>\n",
       "  </thead>\n",
       "  <tbody>\n",
       "    <tr>\n",
       "      <th>0</th>\n",
       "      <td>California</td>\n",
       "      <td>289</td>\n",
       "      <td>4395</td>\n",
       "      <td>15.3</td>\n",
       "      <td>10826</td>\n",
       "      <td>West</td>\n",
       "    </tr>\n",
       "    <tr>\n",
       "      <th>1</th>\n",
       "      <td>Arizona</td>\n",
       "      <td>48</td>\n",
       "      <td>1078</td>\n",
       "      <td>22.5</td>\n",
       "      <td>2550</td>\n",
       "      <td>West</td>\n",
       "    </tr>\n",
       "    <tr>\n",
       "      <th>2</th>\n",
       "      <td>Nevada</td>\n",
       "      <td>11</td>\n",
       "      <td>238</td>\n",
       "      <td>21.6</td>\n",
       "      <td>557</td>\n",
       "      <td>West</td>\n",
       "    </tr>\n",
       "    <tr>\n",
       "      <th>3</th>\n",
       "      <td>Chicago</td>\n",
       "      <td>33</td>\n",
       "      <td>261</td>\n",
       "      <td>7.9</td>\n",
       "      <td>590</td>\n",
       "      <td>North</td>\n",
       "    </tr>\n",
       "    <tr>\n",
       "      <th>4</th>\n",
       "      <td>Connecticut</td>\n",
       "      <td>20</td>\n",
       "      <td>118</td>\n",
       "      <td>5.9</td>\n",
       "      <td>235</td>\n",
       "      <td>East</td>\n",
       "    </tr>\n",
       "    <tr>\n",
       "      <th>5</th>\n",
       "      <td>Texas</td>\n",
       "      <td>12</td>\n",
       "      <td>187</td>\n",
       "      <td>15.6</td>\n",
       "      <td>354</td>\n",
       "      <td>South</td>\n",
       "    </tr>\n",
       "    <tr>\n",
       "      <th>6</th>\n",
       "      <td>New York</td>\n",
       "      <td>13</td>\n",
       "      <td>53</td>\n",
       "      <td>4.1</td>\n",
       "      <td>84</td>\n",
       "      <td>East</td>\n",
       "    </tr>\n",
       "    <tr>\n",
       "      <th>7</th>\n",
       "      <td>Florida</td>\n",
       "      <td>15</td>\n",
       "      <td>535</td>\n",
       "      <td>12.3</td>\n",
       "      <td>453</td>\n",
       "      <td>South</td>\n",
       "    </tr>\n",
       "  </tbody>\n",
       "</table>\n",
       "</div>"
      ],
      "text/plain": [
       "         State  Number of Solar Plants  Installed Capacity (MW)  \\\n",
       "0   California                     289                     4395   \n",
       "1      Arizona                      48                     1078   \n",
       "2       Nevada                      11                      238   \n",
       "3      Chicago                      33                      261   \n",
       "4  Connecticut                      20                      118   \n",
       "5        Texas                      12                      187   \n",
       "6     New York                      13                       53   \n",
       "7      Florida                      15                      535   \n",
       "\n",
       "   Average MW Per Plant  Generation (GWh) Region  \n",
       "0                  15.3             10826   West  \n",
       "1                  22.5              2550   West  \n",
       "2                  21.6               557   West  \n",
       "3                   7.9               590  North  \n",
       "4                   5.9               235   East  \n",
       "5                  15.6               354  South  \n",
       "6                   4.1                84   East  \n",
       "7                  12.3               453  South  "
      ]
     },
     "execution_count": 33,
     "metadata": {},
     "output_type": "execute_result"
    }
   ],
   "source": [
    "data = pd.read_csv(\"solar.csv\")\n",
    "data"
   ]
  },
  {
   "cell_type": "code",
   "execution_count": 45,
   "id": "dc2e3aec-b978-43d6-b7bf-6a9c6773c2a6",
   "metadata": {},
   "outputs": [],
   "source": [
    "data = data.set_index(\"State\")"
   ]
  },
  {
   "cell_type": "code",
   "execution_count": 49,
   "id": "46800c05-da88-44da-b9d5-8bc2ca0c1f75",
   "metadata": {},
   "outputs": [
    {
     "data": {
      "text/html": [
       "<div>\n",
       "<style scoped>\n",
       "    .dataframe tbody tr th:only-of-type {\n",
       "        vertical-align: middle;\n",
       "    }\n",
       "\n",
       "    .dataframe tbody tr th {\n",
       "        vertical-align: top;\n",
       "    }\n",
       "\n",
       "    .dataframe thead th {\n",
       "        text-align: right;\n",
       "    }\n",
       "</style>\n",
       "<table border=\"1\" class=\"dataframe\">\n",
       "  <thead>\n",
       "    <tr style=\"text-align: right;\">\n",
       "      <th></th>\n",
       "      <th>Number of Solar Plants</th>\n",
       "      <th>Installed Capacity (MW)</th>\n",
       "      <th>Average MW Per Plant</th>\n",
       "      <th>Generation (GWh)</th>\n",
       "      <th>Region</th>\n",
       "    </tr>\n",
       "    <tr>\n",
       "      <th>State</th>\n",
       "      <th></th>\n",
       "      <th></th>\n",
       "      <th></th>\n",
       "      <th></th>\n",
       "      <th></th>\n",
       "    </tr>\n",
       "  </thead>\n",
       "  <tbody>\n",
       "    <tr>\n",
       "      <th>California</th>\n",
       "      <td>289</td>\n",
       "      <td>4395</td>\n",
       "      <td>15.3</td>\n",
       "      <td>10826</td>\n",
       "      <td>West</td>\n",
       "    </tr>\n",
       "    <tr>\n",
       "      <th>Arizona</th>\n",
       "      <td>48</td>\n",
       "      <td>1078</td>\n",
       "      <td>22.5</td>\n",
       "      <td>2550</td>\n",
       "      <td>West</td>\n",
       "    </tr>\n",
       "    <tr>\n",
       "      <th>Nevada</th>\n",
       "      <td>11</td>\n",
       "      <td>238</td>\n",
       "      <td>21.6</td>\n",
       "      <td>557</td>\n",
       "      <td>West</td>\n",
       "    </tr>\n",
       "    <tr>\n",
       "      <th>Chicago</th>\n",
       "      <td>33</td>\n",
       "      <td>261</td>\n",
       "      <td>7.9</td>\n",
       "      <td>590</td>\n",
       "      <td>North</td>\n",
       "    </tr>\n",
       "    <tr>\n",
       "      <th>Connecticut</th>\n",
       "      <td>20</td>\n",
       "      <td>118</td>\n",
       "      <td>5.9</td>\n",
       "      <td>235</td>\n",
       "      <td>East</td>\n",
       "    </tr>\n",
       "    <tr>\n",
       "      <th>Texas</th>\n",
       "      <td>12</td>\n",
       "      <td>187</td>\n",
       "      <td>15.6</td>\n",
       "      <td>354</td>\n",
       "      <td>South</td>\n",
       "    </tr>\n",
       "    <tr>\n",
       "      <th>New York</th>\n",
       "      <td>13</td>\n",
       "      <td>53</td>\n",
       "      <td>4.1</td>\n",
       "      <td>84</td>\n",
       "      <td>East</td>\n",
       "    </tr>\n",
       "    <tr>\n",
       "      <th>Florida</th>\n",
       "      <td>15</td>\n",
       "      <td>535</td>\n",
       "      <td>12.3</td>\n",
       "      <td>453</td>\n",
       "      <td>South</td>\n",
       "    </tr>\n",
       "  </tbody>\n",
       "</table>\n",
       "</div>"
      ],
      "text/plain": [
       "             Number of Solar Plants  Installed Capacity (MW)  \\\n",
       "State                                                          \n",
       "California                      289                     4395   \n",
       "Arizona                          48                     1078   \n",
       "Nevada                           11                      238   \n",
       "Chicago                          33                      261   \n",
       "Connecticut                      20                      118   \n",
       "Texas                            12                      187   \n",
       "New York                         13                       53   \n",
       "Florida                          15                      535   \n",
       "\n",
       "             Average MW Per Plant  Generation (GWh) Region  \n",
       "State                                                       \n",
       "California                   15.3             10826   West  \n",
       "Arizona                      22.5              2550   West  \n",
       "Nevada                       21.6               557   West  \n",
       "Chicago                       7.9               590  North  \n",
       "Connecticut                   5.9               235   East  \n",
       "Texas                        15.6               354  South  \n",
       "New York                      4.1                84   East  \n",
       "Florida                      12.3               453  South  "
      ]
     },
     "execution_count": 49,
     "metadata": {},
     "output_type": "execute_result"
    }
   ],
   "source": [
    "data"
   ]
  },
  {
   "cell_type": "code",
   "execution_count": 46,
   "id": "31d457ac-ceaa-4e1e-83d5-4c109ee6efda",
   "metadata": {},
   "outputs": [
    {
     "data": {
      "text/plain": [
       "Number of Solar Plants     8\n",
       "Installed Capacity (MW)    8\n",
       "Average MW Per Plant       8\n",
       "Generation (GWh)           8\n",
       "Region                     8\n",
       "dtype: int64"
      ]
     },
     "execution_count": 46,
     "metadata": {},
     "output_type": "execute_result"
    }
   ],
   "source": [
    "data.count()"
   ]
  },
  {
   "cell_type": "code",
   "execution_count": 47,
   "id": "877a97d1-d956-41ef-aefd-a77bad3bc4c8",
   "metadata": {},
   "outputs": [
    {
     "data": {
      "text/html": [
       "<div>\n",
       "<style scoped>\n",
       "    .dataframe tbody tr th:only-of-type {\n",
       "        vertical-align: middle;\n",
       "    }\n",
       "\n",
       "    .dataframe tbody tr th {\n",
       "        vertical-align: top;\n",
       "    }\n",
       "\n",
       "    .dataframe thead th {\n",
       "        text-align: right;\n",
       "    }\n",
       "</style>\n",
       "<table border=\"1\" class=\"dataframe\">\n",
       "  <thead>\n",
       "    <tr style=\"text-align: right;\">\n",
       "      <th></th>\n",
       "      <th>Number of Solar Plants</th>\n",
       "      <th>Installed Capacity (MW)</th>\n",
       "      <th>Average MW Per Plant</th>\n",
       "      <th>Generation (GWh)</th>\n",
       "      <th>Region</th>\n",
       "    </tr>\n",
       "    <tr>\n",
       "      <th>State</th>\n",
       "      <th></th>\n",
       "      <th></th>\n",
       "      <th></th>\n",
       "      <th></th>\n",
       "      <th></th>\n",
       "    </tr>\n",
       "  </thead>\n",
       "  <tbody>\n",
       "    <tr>\n",
       "      <th>California</th>\n",
       "      <td>289</td>\n",
       "      <td>4395</td>\n",
       "      <td>15.3</td>\n",
       "      <td>10826</td>\n",
       "      <td>West</td>\n",
       "    </tr>\n",
       "    <tr>\n",
       "      <th>Arizona</th>\n",
       "      <td>48</td>\n",
       "      <td>1078</td>\n",
       "      <td>22.5</td>\n",
       "      <td>2550</td>\n",
       "      <td>West</td>\n",
       "    </tr>\n",
       "    <tr>\n",
       "      <th>Florida</th>\n",
       "      <td>15</td>\n",
       "      <td>535</td>\n",
       "      <td>12.3</td>\n",
       "      <td>453</td>\n",
       "      <td>South</td>\n",
       "    </tr>\n",
       "  </tbody>\n",
       "</table>\n",
       "</div>"
      ],
      "text/plain": [
       "            Number of Solar Plants  Installed Capacity (MW)  \\\n",
       "State                                                         \n",
       "California                     289                     4395   \n",
       "Arizona                         48                     1078   \n",
       "Florida                         15                      535   \n",
       "\n",
       "            Average MW Per Plant  Generation (GWh) Region  \n",
       "State                                                      \n",
       "California                  15.3             10826   West  \n",
       "Arizona                     22.5              2550   West  \n",
       "Florida                     12.3               453  South  "
      ]
     },
     "execution_count": 47,
     "metadata": {},
     "output_type": "execute_result"
    }
   ],
   "source": [
    "d1 = data['Installed Capacity (MW)'] > 500\n",
    "data[d1]"
   ]
  },
  {
   "cell_type": "code",
   "execution_count": 53,
   "id": "83ae4833-16b4-46a0-b2d3-fe16461ef200",
   "metadata": {},
   "outputs": [
    {
     "data": {
      "text/plain": [
       "Number of Solar Plants       13\n",
       "Installed Capacity (MW)      53\n",
       "Average MW Per Plant        4.1\n",
       "Generation (GWh)             84\n",
       "Region                     East\n",
       "Name: New York, dtype: object"
      ]
     },
     "execution_count": 53,
     "metadata": {},
     "output_type": "execute_result"
    }
   ],
   "source": [
    "data.loc['New York']"
   ]
  },
  {
   "cell_type": "code",
   "execution_count": 77,
   "id": "1b3ee871-3ab2-4cfe-ae12-ac2c1ed22c24",
   "metadata": {},
   "outputs": [
    {
     "name": "stdout",
     "output_type": "stream",
     "text": [
      "             Average MW Per Plant  Generation (GWh)\n",
      "State                                              \n",
      "California                   15.3             10826\n",
      "Arizona                      22.5              2550\n",
      "Nevada                       21.6               557\n",
      "Chicago                       7.9               590\n",
      "Connecticut                   5.9               235\n",
      "Texas                        15.6               354\n",
      "New York                      4.1                84\n",
      "Florida                      12.3               453\n"
     ]
    }
   ],
   "source": [
    "# d2 = data[\"Average MW Per Plant\", \"Generation (GWh)\"]\n",
    "# data[d2]\n",
    "d2 = data[[\"Average MW Per Plant\", \"Generation (GWh)\"]]\n",
    "print(d2)"
   ]
  },
  {
   "cell_type": "code",
   "execution_count": null,
   "id": "b282b32b-6fd3-4151-b3db-e8fe4ff3c58b",
   "metadata": {},
   "outputs": [],
   "source": [
    "# Sort the plants by Generation (GWh) (ascending) and Installed Capacity (MW)(descending)\n"
   ]
  }
 ],
 "metadata": {
  "kernelspec": {
   "display_name": "Python 3 (ipykernel)",
   "language": "python",
   "name": "python3"
  },
  "language_info": {
   "codemirror_mode": {
    "name": "ipython",
    "version": 3
   },
   "file_extension": ".py",
   "mimetype": "text/x-python",
   "name": "python",
   "nbconvert_exporter": "python",
   "pygments_lexer": "ipython3",
   "version": "3.13.7"
  }
 },
 "nbformat": 4,
 "nbformat_minor": 5
}
