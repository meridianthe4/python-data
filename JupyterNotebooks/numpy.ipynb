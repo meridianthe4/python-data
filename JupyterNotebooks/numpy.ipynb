{
 "cells": [
  {
   "cell_type": "code",
   "execution_count": 3,
   "id": "ab3c6f86-9242-41d1-9018-900438484a0c",
   "metadata": {},
   "outputs": [],
   "source": [
    "import numpy as np"
   ]
  },
  {
   "cell_type": "code",
   "execution_count": 5,
   "id": "bcc84f84-acc3-46ce-bfae-6626e77b00bd",
   "metadata": {},
   "outputs": [],
   "source": [
    "lst = [4, 57, 83, 9, 2]"
   ]
  },
  {
   "cell_type": "code",
   "execution_count": 7,
   "id": "f8708509-7d86-4647-8f26-2aa9bda357d9",
   "metadata": {},
   "outputs": [],
   "source": [
    "arr = np.array(lst)"
   ]
  },
  {
   "cell_type": "code",
   "execution_count": 9,
   "id": "4473d6f3-b824-4d75-a941-366e24cb924d",
   "metadata": {},
   "outputs": [
    {
     "data": {
      "text/plain": [
       "[4, 57, 83, 9, 2]"
      ]
     },
     "execution_count": 9,
     "metadata": {},
     "output_type": "execute_result"
    }
   ],
   "source": [
    "lst"
   ]
  },
  {
   "cell_type": "code",
   "execution_count": 8,
   "id": "b9d876c1-b488-467f-8bd8-a4e7d5ce8ad2",
   "metadata": {},
   "outputs": [
    {
     "data": {
      "text/plain": [
       "array([ 4, 57, 83,  9,  2])"
      ]
     },
     "execution_count": 8,
     "metadata": {},
     "output_type": "execute_result"
    }
   ],
   "source": [
    "arr"
   ]
  },
  {
   "cell_type": "code",
   "execution_count": 30,
   "id": "29d54441-d7bd-446b-bd02-515f5130d60a",
   "metadata": {},
   "outputs": [
    {
     "data": {
      "text/plain": [
       "(5,)"
      ]
     },
     "execution_count": 30,
     "metadata": {},
     "output_type": "execute_result"
    }
   ],
   "source": [
    "arr.shape"
   ]
  },
  {
   "cell_type": "code",
   "execution_count": 32,
   "id": "68d6b78c-8e8c-4fc8-99ea-eac31ed5747e",
   "metadata": {},
   "outputs": [
    {
     "data": {
      "text/plain": [
       "1"
      ]
     },
     "execution_count": 32,
     "metadata": {},
     "output_type": "execute_result"
    }
   ],
   "source": [
    "arr.ndim"
   ]
  },
  {
   "cell_type": "code",
   "execution_count": 35,
   "id": "9a9211c2-4a27-4f0a-beaa-e6b3dc123dbe",
   "metadata": {},
   "outputs": [
    {
     "data": {
      "text/plain": [
       "dtype('int64')"
      ]
     },
     "execution_count": 35,
     "metadata": {},
     "output_type": "execute_result"
    }
   ],
   "source": [
    "arr.dtype"
   ]
  },
  {
   "cell_type": "code",
   "execution_count": 50,
   "id": "962ae35a-d870-406a-a072-2c5d9a3b3fbc",
   "metadata": {},
   "outputs": [],
   "source": [
    "arr1 = np.random.random(12)"
   ]
  },
  {
   "cell_type": "code",
   "execution_count": 51,
   "id": "30e8cbf1-890e-40c2-9257-650b7755cfe2",
   "metadata": {},
   "outputs": [],
   "source": [
    "arr1 = arr1*100"
   ]
  },
  {
   "cell_type": "code",
   "execution_count": 55,
   "id": "b30a8d6a-0d9f-4bce-b377-18c2cef518e8",
   "metadata": {},
   "outputs": [],
   "source": [
    "arr1 = arr1.astype(int)"
   ]
  },
  {
   "cell_type": "code",
   "execution_count": 57,
   "id": "b452cb44-aff3-4b37-b737-f41afb4827c2",
   "metadata": {},
   "outputs": [
    {
     "data": {
      "text/plain": [
       "array([89, 70, 44, 72, 64, 33, 91, 49, 17, 51, 95, 83])"
      ]
     },
     "execution_count": 57,
     "metadata": {},
     "output_type": "execute_result"
    }
   ],
   "source": [
    "arr1"
   ]
  },
  {
   "cell_type": "code",
   "execution_count": 66,
   "id": "642ded64-be4b-41f8-8bf0-8a2899ac64d8",
   "metadata": {},
   "outputs": [
    {
     "data": {
      "text/plain": [
       "(12,)"
      ]
     },
     "execution_count": 66,
     "metadata": {},
     "output_type": "execute_result"
    }
   ],
   "source": [
    "arr1.shape"
   ]
  },
  {
   "cell_type": "code",
   "execution_count": 67,
   "id": "5e7f235e-d76a-4eac-8b69-7f46d683337b",
   "metadata": {},
   "outputs": [
    {
     "data": {
      "text/plain": [
       "array([[89, 70, 44, 72],\n",
       "       [64, 33, 91, 49],\n",
       "       [17, 51, 95, 83]])"
      ]
     },
     "execution_count": 67,
     "metadata": {},
     "output_type": "execute_result"
    }
   ],
   "source": [
    "arr1.reshape((3, 4))"
   ]
  },
  {
   "cell_type": "code",
   "execution_count": 68,
   "id": "4f7d74fe-4d1b-4261-a588-e238281ae752",
   "metadata": {},
   "outputs": [
    {
     "data": {
      "text/plain": [
       "array([[89, 70, 44],\n",
       "       [72, 64, 33],\n",
       "       [91, 49, 17],\n",
       "       [51, 95, 83]])"
      ]
     },
     "execution_count": 68,
     "metadata": {},
     "output_type": "execute_result"
    }
   ],
   "source": [
    "arr1.reshape((4, 3))"
   ]
  },
  {
   "cell_type": "code",
   "execution_count": 69,
   "id": "139854e1-1c29-47cb-bfd2-98a0561ff4c2",
   "metadata": {},
   "outputs": [
    {
     "data": {
      "text/plain": [
       "array([[89, 70],\n",
       "       [44, 72],\n",
       "       [64, 33],\n",
       "       [91, 49],\n",
       "       [17, 51],\n",
       "       [95, 83]])"
      ]
     },
     "execution_count": 69,
     "metadata": {},
     "output_type": "execute_result"
    }
   ],
   "source": [
    "arr1.reshape((6, 2))"
   ]
  },
  {
   "cell_type": "code",
   "execution_count": 70,
   "id": "1b7995f6-cdee-44d2-acf3-c935aaafddad",
   "metadata": {},
   "outputs": [
    {
     "data": {
      "text/plain": [
       "array([[89, 70, 44, 72, 64, 33],\n",
       "       [91, 49, 17, 51, 95, 83]])"
      ]
     },
     "execution_count": 70,
     "metadata": {},
     "output_type": "execute_result"
    }
   ],
   "source": [
    "arr1.reshape((2, 6))"
   ]
  },
  {
   "cell_type": "code",
   "execution_count": 72,
   "id": "0c8e102e-f20d-45a8-bdb7-9fc0cfe3f356",
   "metadata": {},
   "outputs": [
    {
     "data": {
      "text/plain": [
       "array([[89, 70, 44, 72, 64, 33, 91, 49, 17, 51, 95, 83]])"
      ]
     },
     "execution_count": 72,
     "metadata": {},
     "output_type": "execute_result"
    }
   ],
   "source": [
    "arr1.reshape((1, 12))"
   ]
  },
  {
   "cell_type": "code",
   "execution_count": 74,
   "id": "9ec5db0a-3f44-4cee-933e-4f13ab01620a",
   "metadata": {},
   "outputs": [
    {
     "data": {
      "text/plain": [
       "(12,)"
      ]
     },
     "execution_count": 74,
     "metadata": {},
     "output_type": "execute_result"
    }
   ],
   "source": [
    "arr1.shape"
   ]
  },
  {
   "cell_type": "code",
   "execution_count": 75,
   "id": "74641ffc-9aa3-468e-8dbd-6319a89061a6",
   "metadata": {},
   "outputs": [
    {
     "data": {
      "text/plain": [
       "array([[[89, 70],\n",
       "        [44, 72]],\n",
       "\n",
       "       [[64, 33],\n",
       "        [91, 49]],\n",
       "\n",
       "       [[17, 51],\n",
       "        [95, 83]]])"
      ]
     },
     "execution_count": 75,
     "metadata": {},
     "output_type": "execute_result"
    }
   ],
   "source": [
    "arr1.reshape((3, 2, 2))"
   ]
  },
  {
   "cell_type": "code",
   "execution_count": 76,
   "id": "50b918f7-cba4-4a43-a907-901514855578",
   "metadata": {},
   "outputs": [
    {
     "data": {
      "text/plain": [
       "array([[[[89, 70],\n",
       "         [44, 72]],\n",
       "\n",
       "        [[64, 33],\n",
       "         [91, 49]],\n",
       "\n",
       "        [[17, 51],\n",
       "         [95, 83]]]])"
      ]
     },
     "execution_count": 76,
     "metadata": {},
     "output_type": "execute_result"
    }
   ],
   "source": [
    "arr1.reshape((1, 3, 2, 2))"
   ]
  },
  {
   "cell_type": "code",
   "execution_count": null,
   "id": "2a143b82-426d-4119-a7c2-1aa94d8c31ad",
   "metadata": {},
   "outputs": [],
   "source": []
  },
  {
   "cell_type": "code",
   "execution_count": 64,
   "id": "9d4f411c-dce6-49ae-8a76-b59599604fa6",
   "metadata": {},
   "outputs": [],
   "source": [
    "arr2 = np.random.randint(2, 10, 5)"
   ]
  },
  {
   "cell_type": "code",
   "execution_count": 65,
   "id": "43c02fe3-aaca-4e84-9166-b7a966e150ae",
   "metadata": {},
   "outputs": [
    {
     "data": {
      "text/plain": [
       "array([2, 3, 7, 8, 4], dtype=int32)"
      ]
     },
     "execution_count": 65,
     "metadata": {},
     "output_type": "execute_result"
    }
   ],
   "source": [
    "arr2"
   ]
  },
  {
   "cell_type": "code",
   "execution_count": 79,
   "id": "5d53634d-6f5b-494e-9b2f-e8eacbc6bb8f",
   "metadata": {},
   "outputs": [],
   "source": [
    "one = np.ones((3, 4), dtype=int)"
   ]
  },
  {
   "cell_type": "code",
   "execution_count": 80,
   "id": "1c700085-0f1f-44f3-bf28-2c89cb441df6",
   "metadata": {},
   "outputs": [
    {
     "data": {
      "text/plain": [
       "array([[1, 1, 1, 1],\n",
       "       [1, 1, 1, 1],\n",
       "       [1, 1, 1, 1]])"
      ]
     },
     "execution_count": 80,
     "metadata": {},
     "output_type": "execute_result"
    }
   ],
   "source": [
    "one"
   ]
  },
  {
   "cell_type": "code",
   "execution_count": 83,
   "id": "01532b4e-04ea-4759-b14c-d03fb271bcfc",
   "metadata": {},
   "outputs": [],
   "source": [
    "identity_m = np.identity(4, dtype=int)"
   ]
  },
  {
   "cell_type": "code",
   "execution_count": 84,
   "id": "62b7d3dd-3189-46c8-9296-fdcb953e635c",
   "metadata": {},
   "outputs": [
    {
     "data": {
      "text/plain": [
       "array([[1, 0, 0, 0],\n",
       "       [0, 1, 0, 0],\n",
       "       [0, 0, 1, 0],\n",
       "       [0, 0, 0, 1]])"
      ]
     },
     "execution_count": 84,
     "metadata": {},
     "output_type": "execute_result"
    }
   ],
   "source": [
    "identity_m"
   ]
  },
  {
   "cell_type": "code",
   "execution_count": 87,
   "id": "a9ea571e-845c-409c-9d94-6a4b53a64cb2",
   "metadata": {},
   "outputs": [],
   "source": [
    "empty_a = np.empty((3, 4), dtype=int)"
   ]
  },
  {
   "cell_type": "code",
   "execution_count": 88,
   "id": "2dad2f51-ccc3-4225-83c0-98adca850b40",
   "metadata": {},
   "outputs": [
    {
     "data": {
      "text/plain": [
       "array([[4607182418800017408, 4607182418800017408, 4607182418800017408,\n",
       "        4607182418800017408],\n",
       "       [4607182418800017408, 4607182418800017408, 4607182418800017408,\n",
       "        4607182418800017408],\n",
       "       [4607182418800017408, 4607182418800017408, 4607182418800017408,\n",
       "        4607182418800017408]])"
      ]
     },
     "execution_count": 88,
     "metadata": {},
     "output_type": "execute_result"
    }
   ],
   "source": [
    "empty_a"
   ]
  },
  {
   "cell_type": "code",
   "execution_count": 93,
   "id": "d73d50ee-d802-4b86-8c86-26454a523cae",
   "metadata": {},
   "outputs": [],
   "source": [
    "arr = np.arange(12).reshape(3, 4)"
   ]
  },
  {
   "cell_type": "code",
   "execution_count": 95,
   "id": "2ce786df-5007-407a-8f3b-d75644f5557f",
   "metadata": {},
   "outputs": [
    {
     "data": {
      "text/plain": [
       "array([[ 0,  1,  2,  3],\n",
       "       [ 4,  5,  6,  7],\n",
       "       [ 8,  9, 10, 11]])"
      ]
     },
     "execution_count": 95,
     "metadata": {},
     "output_type": "execute_result"
    }
   ],
   "source": [
    "arr"
   ]
  },
  {
   "cell_type": "code",
   "execution_count": 97,
   "id": "5919c114-53d2-4945-9900-40d085645507",
   "metadata": {},
   "outputs": [
    {
     "data": {
      "text/plain": [
       "array([[ 0,  4,  8],\n",
       "       [ 1,  5,  9],\n",
       "       [ 2,  6, 10],\n",
       "       [ 3,  7, 11]])"
      ]
     },
     "execution_count": 97,
     "metadata": {},
     "output_type": "execute_result"
    }
   ],
   "source": [
    "arr.transpose()"
   ]
  },
  {
   "cell_type": "code",
   "execution_count": 99,
   "id": "092f7a5c-227d-4c40-862b-8abc2aa5bbf1",
   "metadata": {},
   "outputs": [
    {
     "data": {
      "text/plain": [
       "array([ 0,  1,  2,  3,  4,  5,  6,  7,  8,  9, 10, 11])"
      ]
     },
     "execution_count": 99,
     "metadata": {},
     "output_type": "execute_result"
    }
   ],
   "source": [
    "np.arange(12).transpose()"
   ]
  },
  {
   "cell_type": "code",
   "execution_count": 107,
   "id": "9cbade23-2f8f-412e-a3f3-ee064096bca5",
   "metadata": {},
   "outputs": [],
   "source": [
    "arr1 = np.arange(16).reshape(4, 4)"
   ]
  },
  {
   "cell_type": "code",
   "execution_count": 108,
   "id": "00d67138-36c5-41e7-8543-1c21ddf29cc3",
   "metadata": {},
   "outputs": [],
   "source": [
    "arr2 = np.arange(12).reshape(3, 4)"
   ]
  },
  {
   "cell_type": "code",
   "execution_count": 111,
   "id": "83ad8ace-5e20-41a9-9763-1056b95db398",
   "metadata": {},
   "outputs": [],
   "source": [
    "arr3 = np.arange(12).reshape(4, 3)"
   ]
  },
  {
   "cell_type": "code",
   "execution_count": null,
   "id": "874c31f1-e4fa-420c-b364-b48df1ebf233",
   "metadata": {},
   "outputs": [],
   "source": []
  },
  {
   "cell_type": "code",
   "execution_count": 109,
   "id": "39ee4db3-35c5-4ebd-990c-d00f33b68a53",
   "metadata": {},
   "outputs": [
    {
     "data": {
      "text/plain": [
       "array([[ 0,  1,  2,  3],\n",
       "       [ 4,  5,  6,  7],\n",
       "       [ 8,  9, 10, 11],\n",
       "       [ 0,  1,  2,  3],\n",
       "       [ 4,  5,  6,  7],\n",
       "       [ 8,  9, 10, 11],\n",
       "       [12, 13, 14, 15]])"
      ]
     },
     "execution_count": 109,
     "metadata": {},
     "output_type": "execute_result"
    }
   ],
   "source": [
    "np.vstack((arr2, arr1))"
   ]
  },
  {
   "cell_type": "code",
   "execution_count": 113,
   "id": "d955c3e8-0aff-42cf-af90-6e0bfba5426f",
   "metadata": {},
   "outputs": [
    {
     "data": {
      "text/plain": [
       "array([[ 0,  1,  2,  3,  0,  1,  2],\n",
       "       [ 4,  5,  6,  7,  3,  4,  5],\n",
       "       [ 8,  9, 10, 11,  6,  7,  8],\n",
       "       [12, 13, 14, 15,  9, 10, 11]])"
      ]
     },
     "execution_count": 113,
     "metadata": {},
     "output_type": "execute_result"
    }
   ],
   "source": [
    "np.hstack((arr1, arr3))"
   ]
  },
  {
   "cell_type": "code",
   "execution_count": 125,
   "id": "bdba3017-b08d-4b89-b61d-42558e239e07",
   "metadata": {},
   "outputs": [],
   "source": [
    "arr = np.random.randint(1, 50, 10)"
   ]
  },
  {
   "cell_type": "code",
   "execution_count": 126,
   "id": "ad6795f7-64a0-4428-a654-86a5da0a2d3d",
   "metadata": {},
   "outputs": [
    {
     "data": {
      "text/plain": [
       "array([38, 19, 47, 34, 14,  6, 41, 39, 39, 41], dtype=int32)"
      ]
     },
     "execution_count": 126,
     "metadata": {},
     "output_type": "execute_result"
    }
   ],
   "source": [
    "arr"
   ]
  },
  {
   "cell_type": "code",
   "execution_count": 127,
   "id": "99344a20-2227-4ca9-aa40-962c654e0aed",
   "metadata": {},
   "outputs": [],
   "source": [
    "arr.sort()"
   ]
  },
  {
   "cell_type": "code",
   "execution_count": 128,
   "id": "b94f927a-14e5-4ca1-8e6a-8ca2534a4a92",
   "metadata": {},
   "outputs": [
    {
     "data": {
      "text/plain": [
       "array([ 6, 14, 19, 34, 38, 39, 39, 41, 41, 47], dtype=int32)"
      ]
     },
     "execution_count": 128,
     "metadata": {},
     "output_type": "execute_result"
    }
   ],
   "source": [
    "arr"
   ]
  },
  {
   "cell_type": "code",
   "execution_count": null,
   "id": "92fe368d-ca34-4247-823a-8d0bbf5ff5c1",
   "metadata": {},
   "outputs": [],
   "source": []
  },
  {
   "cell_type": "code",
   "execution_count": 141,
   "id": "175459ba-4a9d-4dc9-a4cc-4c6f1e496058",
   "metadata": {},
   "outputs": [
    {
     "data": {
      "text/plain": [
       "array([[21, 46,  3, 38],\n",
       "       [ 2, 47, 19, 28],\n",
       "       [23, 47, 37, 17]], dtype=int32)"
      ]
     },
     "execution_count": 141,
     "metadata": {},
     "output_type": "execute_result"
    }
   ],
   "source": [
    "arr4 = np.random.randint(1, 50, 12).reshape(3, 4)\n",
    "arr4"
   ]
  },
  {
   "cell_type": "code",
   "execution_count": 142,
   "id": "ba68e768-7c22-4951-ae50-dd07b69b35a2",
   "metadata": {},
   "outputs": [
    {
     "data": {
      "text/plain": [
       "np.int64(328)"
      ]
     },
     "execution_count": 142,
     "metadata": {},
     "output_type": "execute_result"
    }
   ],
   "source": [
    "np.sum(arr4)"
   ]
  },
  {
   "cell_type": "code",
   "execution_count": 143,
   "id": "9971935f-4494-4fcf-9cd3-00e944702692",
   "metadata": {},
   "outputs": [
    {
     "data": {
      "text/plain": [
       "array([ 46, 140,  59,  83])"
      ]
     },
     "execution_count": 143,
     "metadata": {},
     "output_type": "execute_result"
    }
   ],
   "source": [
    "np.sum(arr4, axis=0)"
   ]
  },
  {
   "cell_type": "code",
   "execution_count": 144,
   "id": "c09f7d9e-3c6a-4b9e-a80d-0e7222bb28b4",
   "metadata": {},
   "outputs": [
    {
     "data": {
      "text/plain": [
       "array([108,  96, 124])"
      ]
     },
     "execution_count": 144,
     "metadata": {},
     "output_type": "execute_result"
    }
   ],
   "source": [
    "np.sum(arr4, axis=1)"
   ]
  },
  {
   "cell_type": "code",
   "execution_count": 145,
   "id": "8718e2cd-b9ec-4d8b-a4c6-3805def7f9c7",
   "metadata": {},
   "outputs": [
    {
     "data": {
      "text/plain": [
       "np.int32(2)"
      ]
     },
     "execution_count": 145,
     "metadata": {},
     "output_type": "execute_result"
    }
   ],
   "source": [
    "np.min(arr4)"
   ]
  },
  {
   "cell_type": "code",
   "execution_count": 146,
   "id": "f7bf3976-2b36-43bd-bec3-0504ac50995f",
   "metadata": {},
   "outputs": [
    {
     "data": {
      "text/plain": [
       "array([ 2, 46,  3, 17], dtype=int32)"
      ]
     },
     "execution_count": 146,
     "metadata": {},
     "output_type": "execute_result"
    }
   ],
   "source": [
    "np.min(arr4, axis=0)"
   ]
  },
  {
   "cell_type": "code",
   "execution_count": 147,
   "id": "6cebbb95-4fe4-4a93-a216-7d22669b3beb",
   "metadata": {},
   "outputs": [
    {
     "data": {
      "text/plain": [
       "array([ 3,  2, 17], dtype=int32)"
      ]
     },
     "execution_count": 147,
     "metadata": {},
     "output_type": "execute_result"
    }
   ],
   "source": [
    "np.min(arr4, axis=1)"
   ]
  },
  {
   "cell_type": "code",
   "execution_count": 148,
   "id": "f073ca1f-a099-4bbf-9281-61a28384ef5b",
   "metadata": {},
   "outputs": [
    {
     "data": {
      "text/plain": [
       "np.int32(47)"
      ]
     },
     "execution_count": 148,
     "metadata": {},
     "output_type": "execute_result"
    }
   ],
   "source": [
    "np.max(arr4)"
   ]
  },
  {
   "cell_type": "code",
   "execution_count": 149,
   "id": "7683303c-5592-4619-ad74-55f55e23f68d",
   "metadata": {},
   "outputs": [
    {
     "data": {
      "text/plain": [
       "array([23, 47, 37, 38], dtype=int32)"
      ]
     },
     "execution_count": 149,
     "metadata": {},
     "output_type": "execute_result"
    }
   ],
   "source": [
    "np.max(arr4, axis=0)"
   ]
  },
  {
   "cell_type": "code",
   "execution_count": 150,
   "id": "96c3ebb9-dac9-4f2d-b3e7-44440cc1f1d6",
   "metadata": {},
   "outputs": [
    {
     "data": {
      "text/plain": [
       "array([46, 47, 47], dtype=int32)"
      ]
     },
     "execution_count": 150,
     "metadata": {},
     "output_type": "execute_result"
    }
   ],
   "source": [
    "np.max(arr4, axis=1)"
   ]
  },
  {
   "cell_type": "code",
   "execution_count": 152,
   "id": "2b83d89a-b0e1-4259-bcaf-1d5500967fe0",
   "metadata": {},
   "outputs": [
    {
     "data": {
      "text/plain": [
       "array([[[11, 21],\n",
       "        [34,  3],\n",
       "        [ 1, 29],\n",
       "        [31, 18]],\n",
       "\n",
       "       [[13,  9],\n",
       "        [48, 19],\n",
       "        [17, 27],\n",
       "        [35, 11]],\n",
       "\n",
       "       [[48, 43],\n",
       "        [11, 46],\n",
       "        [42, 28],\n",
       "        [45,  9]]], dtype=int32)"
      ]
     },
     "execution_count": 152,
     "metadata": {},
     "output_type": "execute_result"
    }
   ],
   "source": [
    "arr5 = np.random.randint(1, 50, 24).reshape(3, 4, 2)\n",
    "arr5"
   ]
  },
  {
   "cell_type": "code",
   "execution_count": 164,
   "id": "d0c7aa10-4b8e-49fd-8658-cfb4d5a014a2",
   "metadata": {},
   "outputs": [
    {
     "data": {
      "text/plain": [
       "array([[[[11, 21],\n",
       "         [34,  3],\n",
       "         [ 1, 29],\n",
       "         [31, 18]]],\n",
       "\n",
       "\n",
       "       [[[13,  9],\n",
       "         [48, 19],\n",
       "         [17, 27],\n",
       "         [35, 11]]],\n",
       "\n",
       "\n",
       "       [[[48, 43],\n",
       "         [11, 46],\n",
       "         [42, 28],\n",
       "         [45,  9]]]], dtype=int32)"
      ]
     },
     "execution_count": 164,
     "metadata": {},
     "output_type": "execute_result"
    }
   ],
   "source": [
    "arr5.reshape(3, 1, 4, 2)"
   ]
  },
  {
   "cell_type": "code",
   "execution_count": 157,
   "id": "6baade40-9323-4492-8545-32ac1bbe29a7",
   "metadata": {},
   "outputs": [
    {
     "data": {
      "text/plain": [
       "array([[11,  9],\n",
       "       [11,  3],\n",
       "       [ 1, 27],\n",
       "       [31,  9]], dtype=int32)"
      ]
     },
     "execution_count": 157,
     "metadata": {},
     "output_type": "execute_result"
    }
   ],
   "source": [
    "np.min(arr5, axis=0)"
   ]
  },
  {
   "cell_type": "code",
   "execution_count": 158,
   "id": "6f4b580f-c4f5-4d63-a303-7e955108e342",
   "metadata": {},
   "outputs": [
    {
     "data": {
      "text/plain": [
       "array([[ 1,  3],\n",
       "       [13,  9],\n",
       "       [11,  9]], dtype=int32)"
      ]
     },
     "execution_count": 158,
     "metadata": {},
     "output_type": "execute_result"
    }
   ],
   "source": [
    "np.min(arr5, axis=1)"
   ]
  },
  {
   "cell_type": "code",
   "execution_count": 159,
   "id": "6cfc876b-9f80-4c99-bf4c-8bc6f75136fd",
   "metadata": {},
   "outputs": [
    {
     "data": {
      "text/plain": [
       "array([[11,  3,  1, 18],\n",
       "       [ 9, 19, 17, 11],\n",
       "       [43, 11, 28,  9]], dtype=int32)"
      ]
     },
     "execution_count": 159,
     "metadata": {},
     "output_type": "execute_result"
    }
   ],
   "source": [
    "np.min(arr5, axis=2)"
   ]
  },
  {
   "cell_type": "code",
   "execution_count": 162,
   "id": "6663c5de-3b71-4813-8b3e-cd85e4401682",
   "metadata": {},
   "outputs": [
    {
     "name": "stdout",
     "output_type": "stream",
     "text": [
      "[[1 2 3]\n",
      " [4 5 6]\n",
      " [7 8 9]]\n",
      "[[[1]\n",
      "  [2]\n",
      "  [3]]\n",
      "\n",
      " [[4]\n",
      "  [5]\n",
      "  [6]]\n",
      "\n",
      " [[7]\n",
      "  [8]\n",
      "  [9]]]\n"
     ]
    }
   ],
   "source": [
    "array_2d = np.array([[1, 2, 3], [4, 5, 6], [7, 8, 9]])\n",
    "# print(&quot;Original 2D array:&quot;)\n",
    "print(array_2d)\n",
    "\n",
    "# Reshape the 2D array into a 3D array with shape (3, 3, 1)\n",
    "array_3d = array_2d.reshape((3, 3, 1))\n",
    "# print(&quot;\\nReshaped 3D array:&quot;)\n",
    "print(array_3d)"
   ]
  },
  {
   "cell_type": "code",
   "execution_count": 165,
   "id": "fa01c0b5-61d8-4af9-867c-81f2876a2b02",
   "metadata": {},
   "outputs": [
    {
     "data": {
      "text/plain": [
       "array([[1, 2, 3],\n",
       "       [4, 5, 6],\n",
       "       [7, 8, 9]])"
      ]
     },
     "execution_count": 165,
     "metadata": {},
     "output_type": "execute_result"
    }
   ],
   "source": [
    "np.min(array_3d, axis=2)"
   ]
  },
  {
   "cell_type": "code",
   "execution_count": 166,
   "id": "390479fd-8789-410f-a1e9-2f37a6e87e30",
   "metadata": {},
   "outputs": [
    {
     "data": {
      "text/plain": [
       "array([15,  4,  8,  2,  8, 13,  9, 15,  1, 10], dtype=int32)"
      ]
     },
     "execution_count": 166,
     "metadata": {},
     "output_type": "execute_result"
    }
   ],
   "source": [
    "arr7 = np.random.randint(1, 20, 10)\n",
    "arr7"
   ]
  },
  {
   "cell_type": "code",
   "execution_count": 176,
   "id": "d2a6b3ad-46c4-427d-9ead-5207e7c0d2ae",
   "metadata": {},
   "outputs": [
    {
     "data": {
      "text/plain": [
       "array([[1.],\n",
       "       [1.]])"
      ]
     },
     "execution_count": 176,
     "metadata": {},
     "output_type": "execute_result"
    }
   ],
   "source": [
    "arr8 = np.ones((2, 1))\n",
    "arr8"
   ]
  },
  {
   "cell_type": "code",
   "execution_count": 177,
   "id": "36cc4abe-16d7-4ebd-aeea-73dd21cb66e1",
   "metadata": {},
   "outputs": [
    {
     "data": {
      "text/plain": [
       "array([[[1., 1.],\n",
       "        [1., 1.]],\n",
       "\n",
       "       [[1., 1.],\n",
       "        [1., 1.]]])"
      ]
     },
     "execution_count": 177,
     "metadata": {},
     "output_type": "execute_result"
    }
   ],
   "source": [
    "arr9 = np.ones((2, 2, 2))\n",
    "arr9"
   ]
  },
  {
   "cell_type": "code",
   "execution_count": 178,
   "id": "6ca23249-199c-4025-b00a-c65188cbb3fe",
   "metadata": {},
   "outputs": [
    {
     "data": {
      "text/plain": [
       "array([[[2., 2.],\n",
       "        [2., 2.]],\n",
       "\n",
       "       [[2., 2.],\n",
       "        [2., 2.]]])"
      ]
     },
     "execution_count": 178,
     "metadata": {},
     "output_type": "execute_result"
    }
   ],
   "source": [
    "arr8 + arr9"
   ]
  },
  {
   "cell_type": "code",
   "execution_count": null,
   "id": "127e884a-1038-456f-8f40-444874e3a9ac",
   "metadata": {},
   "outputs": [],
   "source": []
  }
 ],
 "metadata": {
  "kernelspec": {
   "display_name": "Python 3 (ipykernel)",
   "language": "python",
   "name": "python3"
  },
  "language_info": {
   "codemirror_mode": {
    "name": "ipython",
    "version": 3
   },
   "file_extension": ".py",
   "mimetype": "text/x-python",
   "name": "python",
   "nbconvert_exporter": "python",
   "pygments_lexer": "ipython3",
   "version": "3.13.7"
  }
 },
 "nbformat": 4,
 "nbformat_minor": 5
}
